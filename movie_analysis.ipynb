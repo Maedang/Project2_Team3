{
 "cells": [
  {
   "cell_type": "code",
   "execution_count": null,
   "metadata": {},
   "outputs": [],
   "source": [
    "# Import dependencies\n",
    "import requests\n",
    "import json\n",
    "import pandas as pd\n",
    "import time\n",
    "\n",
    "from pprint import pprint\n",
    "from api_key import api_key"
   ]
  },
  {
   "cell_type": "code",
   "execution_count": null,
   "metadata": {},
   "outputs": [],
   "source": [
    "# URL and API Key strings for requests\n",
    "url = \"http://www.omdbapi.com/?i=\"\n",
    "api_key = \"&apikey=\" + api_key"
   ]
  },
  {
   "cell_type": "code",
   "execution_count": null,
   "metadata": {},
   "outputs": [],
   "source": [
    "cleaned_movies = pd.read_csv('Resources/cleaned_movies.csv')\n",
    "cleaned_movies.head()"
   ]
  },
  {
   "cell_type": "code",
   "execution_count": null,
   "metadata": {},
   "outputs": [],
   "source": [
    "# Empty lists to hold response info\n",
    "imdb_id = []\n",
    "title = []\n",
    "year = []\n",
    "runtime = []\n",
    "genre = []\n",
    "rated = []\n",
    "language = []\n",
    "country = []\n",
    "metascore = []\n",
    "imdb_rating = []\n",
    "box_office = []\n",
    "counter = 0\n",
    "\n",
    "# For loop to append response results for each movie in our csv file\n",
    "for id in cleaned_movies['imdbId']:\n",
    "    try:\n",
    "        response = requests.get(url + id + api_key).json()\n",
    "        imdb_id.append(response['imdbID'])\n",
    "        title.append(response['Title'])\n",
    "        year.append(response['Year'])\n",
    "        runtime.append(response['Runtime'])\n",
    "        genre.append(response['Genre'])\n",
    "        rated.append(response['Rated'])\n",
    "        language.append(response['Language'])\n",
    "        country.append(response['Country'])\n",
    "        metascore.append(response['Metascore'])\n",
    "        imdb_rating.append(response['imdbRating'])\n",
    "        box_office.append(response['BoxOffice'])\n",
    "        counter += 1\n",
    "        print(f'Processed record: {counter}')\n",
    "    except:\n",
    "        print(f'Record missing key information. Appending N/A to columns...')\n",
    "        imdb_id.append('N/A')\n",
    "        title.append('N/A')\n",
    "        year.append('N/A')\n",
    "        runtime.append('N/A')\n",
    "        genre.append('N/A')\n",
    "        rated.append('N/A')\n",
    "        language.append('N/A')\n",
    "        country.append('N/A')\n",
    "        metascore.append('N/A')\n",
    "        imdb_rating.append('N/A')\n",
    "        box_office.append('N/A')\n",
    "    \n",
    "print(f'The total number of records found was: {counter}')"
   ]
  },
  {
   "cell_type": "code",
   "execution_count": null,
   "metadata": {},
   "outputs": [],
   "source": [
    "len(imdb_id), len(title), len(year), len(runtime), len(genre), len(rated), len(language),len(country), len(metascore), len(imdb_rating), len(box_office)"
   ]
  },
  {
   "cell_type": "code",
   "execution_count": null,
   "metadata": {},
   "outputs": [],
   "source": [
    "#Put the API response into a DataFrame\n",
    "api_data = pd.DataFrame({\n",
    "    'IMDbID': imdb_id,\n",
    "    'Title': title,\n",
    "    'Year': year,\n",
    "    'Runtime': runtime,\n",
    "    'Genre': genre,\n",
    "    'Rated': rated,\n",
    "    'Language': language,\n",
    "    'Country': country,\n",
    "    'Metascore': metascore,\n",
    "    'IMDb_Rating': imdb_rating,\n",
    "    'Box_Office': box_office\n",
    "})"
   ]
  },
  {
   "cell_type": "code",
   "execution_count": null,
   "metadata": {},
   "outputs": [],
   "source": [
    "api_data.to_csv('Resources/api_data.csv')"
   ]
  },
  {
   "cell_type": "code",
   "execution_count": null,
   "metadata": {},
   "outputs": [],
   "source": [
    "api_data"
   ]
  }
 ],
 "metadata": {
  "kernelspec": {
   "display_name": "Python 3.9.12 ('base')",
   "language": "python",
   "name": "python3"
  },
  "language_info": {
   "codemirror_mode": {
    "name": "ipython",
    "version": 3
   },
   "file_extension": ".py",
   "mimetype": "text/x-python",
   "name": "python",
   "nbconvert_exporter": "python",
   "pygments_lexer": "ipython3",
   "version": "3.9.12"
  },
  "orig_nbformat": 4,
  "vscode": {
   "interpreter": {
    "hash": "5b0b07944c5dbc91a88e284768cab79a207cf3dc0826e4b143a459b8bc7027e6"
   }
  }
 },
 "nbformat": 4,
 "nbformat_minor": 2
}
