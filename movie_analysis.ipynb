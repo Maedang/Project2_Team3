{
 "cells": [
  {
   "cell_type": "code",
   "execution_count": null,
   "metadata": {},
   "outputs": [],
   "source": [
    "# Import dependencies\n",
    "import requests\n",
    "import json\n",
    "import pandas as pd\n",
    "import time\n",
    "\n",
    "from pprint import pprint\n",
    "from api_key import api_key"
   ]
  },
  {
   "cell_type": "code",
   "execution_count": null,
   "metadata": {},
   "outputs": [],
   "source": [
    "# URL and API Key strings for requests\n",
    "url = \"http://www.omdbapi.com/?i=\"\n",
    "api_key = \"&apikey=\" + api_key"
   ]
  },
  {
   "cell_type": "code",
   "execution_count": null,
   "metadata": {},
   "outputs": [],
   "source": [
    "cleaned_movies = pd.read_csv('Resources/cleaned_movies.csv')\n",
    "cleaned_movies.head()"
   ]
  },
  {
   "cell_type": "code",
   "execution_count": null,
   "metadata": {},
   "outputs": [],
   "source": [
    "# Empty lists to hold response info\n",
    "imdb_id = []\n",
    "title = []\n",
    "year = []\n",
    "runtime = []\n",
    "genre = []\n",
    "rated = []\n",
    "language = []\n",
    "country = []\n",
    "awards = []\n",
    "ratings = []\n",
    "metascore = []\n",
    "imdb_rating = []\n",
    "box_office = []\n",
    "counter = 1\n",
    "\n",
    "# For loop to append response results for each movie in our csv file\n",
    "for id in cleaned_movies['imdbId']:\n",
    "    try:\n",
    "        response = requests.get(url + id + api_key).json()\n",
    "        print(f'Processing record: {counter}')\n",
    "        imdb_id.append(response['imdbID'])\n",
    "        title.append(response['Title'])\n",
    "        year.append(response['Year'])\n",
    "        runtime.append(response['Runtime'])\n",
    "        genre.append(response['Genre'])\n",
    "        rated.append(response['Rated'])\n",
    "        language.append(response['Language'])\n",
    "        country.append(response['Country'])\n",
    "        awards.append(response['Awards'])\n",
    "        ratings.append(response['Ratings'])\n",
    "        metascore.append(response['Metascore'])\n",
    "        imdb_rating.append(response['imdbRating'])\n",
    "        box_office.append(response['BoxOffice'])\n",
    "        counter += 1\n",
    "        time.sleep(1)\n",
    "    except:\n",
    "        print(f'Movie missing key information. Skipping...')\n",
    "print(f'The total number of records found was: {counter}')"
   ]
  },
  {
   "cell_type": "code",
   "execution_count": null,
   "metadata": {},
   "outputs": [],
   "source": [
    "#Put the API response into a DataFrame\n",
    "api_data = pd.DataFrame({\n",
    "    'IMDbID': imdb_id,\n",
    "    'Title': title,\n",
    "    'Year': year,\n",
    "    'Runtime': runtime,\n",
    "    'Genre': genre,\n",
    "    'Rated': rated,\n",
    "    'Language': language,\n",
    "    'Country': country,\n",
    "    'Awards': awards,\n",
    "    'Ratings': ratings,\n",
    "    'Metascore': metascore,\n",
    "    'IMDb_Rating': imdb_rating,\n",
    "    'Box_Office': box_office\n",
    "})"
   ]
  },
  {
   "cell_type": "code",
   "execution_count": null,
   "metadata": {},
   "outputs": [],
   "source": [
    "api_data"
   ]
  },
  {
   "cell_type": "code",
   "execution_count": null,
   "metadata": {},
   "outputs": [],
   "source": []
  }
 ],
 "metadata": {
  "kernelspec": {
   "display_name": "Python 3.9.12 ('base')",
   "language": "python",
   "name": "python3"
  },
  "language_info": {
   "codemirror_mode": {
    "name": "ipython",
    "version": 3
   },
   "file_extension": ".py",
   "mimetype": "text/x-python",
   "name": "python",
   "nbconvert_exporter": "python",
   "pygments_lexer": "ipython3",
   "version": "3.9.12"
  },
  "orig_nbformat": 4,
  "vscode": {
   "interpreter": {
    "hash": "5b0b07944c5dbc91a88e284768cab79a207cf3dc0826e4b143a459b8bc7027e6"
   }
  }
 },
 "nbformat": 4,
 "nbformat_minor": 2
}
