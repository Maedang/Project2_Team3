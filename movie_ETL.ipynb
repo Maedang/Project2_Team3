{
 "cells": [
  {
   "cell_type": "markdown",
   "metadata": {},
   "source": [
    "### Dependencies"
   ]
  },
  {
   "cell_type": "code",
   "execution_count": 1,
   "metadata": {},
   "outputs": [],
   "source": [
    "# Import dependencies\n",
    "import requests\n",
    "import json\n",
    "import pandas as pd\n",
    "import numpy as np\n",
    "import time\n",
    "\n",
    "from pprint import pprint\n",
    "from api_key import api_key"
   ]
  },
  {
   "cell_type": "markdown",
   "metadata": {},
   "source": [
    "### Extract and Transform CSV Data"
   ]
  },
  {
   "cell_type": "code",
   "execution_count": null,
   "metadata": {},
   "outputs": [],
   "source": [
    "# Path to resources\n",
    "movies_path = \"Resources/movies.csv\"\n",
    "links_path = \"Resources/links.csv\"\n",
    "\n",
    "# Read the csvs\n",
    "movies_df = pd.read_csv(movies_path)\n",
    "links_df = pd.read_csv(links_path)\n",
    "\n",
    "# Merge the two csvs into one Pandas Dataframe\n",
    "merge_df = pd.merge(movies_df, links_df, on = \"movieId\", how = \"outer\")\n",
    "\n",
    "merge_df"
   ]
  },
  {
   "cell_type": "code",
   "execution_count": null,
   "metadata": {},
   "outputs": [],
   "source": [
    "# Drop N/As\n",
    "cleaned_df = merge_df.dropna()\n",
    "\n",
    "# Add 'tt' to the IMDb IDs for the API response\n",
    "cleaned_df.imdbId = cleaned_df.imdbId.astype(str)\n",
    "cleaned_df.imdbId = 'tt' + cleaned_df.imdbId.str.zfill(7)\n",
    "\n",
    "# Remove unnecessary columns\n",
    "del cleaned_df['genres']\n",
    "del cleaned_df['tmdbId']\n",
    "\n",
    "# Set index to movieID\n",
    "cleaned_df = cleaned_df.set_index('movieId')\n",
    "\n",
    "cleaned_df"
   ]
  },
  {
   "cell_type": "code",
   "execution_count": null,
   "metadata": {},
   "outputs": [],
   "source": [
    "# Store as a CSV to load for API process\n",
    "cleaned_df.to_csv(\"Resources/cleaned_movies.csv\")"
   ]
  },
  {
   "cell_type": "markdown",
   "metadata": {},
   "source": [
    "### Extract API Data"
   ]
  },
  {
   "cell_type": "code",
   "execution_count": null,
   "metadata": {},
   "outputs": [],
   "source": [
    "# Read the csv of cleaned movies from our csv source\n",
    "merged_movies = pd.read_csv('Resources/cleaned_movies.csv')\n",
    "merged_movies.head()"
   ]
  },
  {
   "cell_type": "code",
   "execution_count": null,
   "metadata": {},
   "outputs": [],
   "source": [
    "# Count of records\n",
    "merged_movies.imdbId.count()"
   ]
  },
  {
   "cell_type": "code",
   "execution_count": null,
   "metadata": {},
   "outputs": [],
   "source": [
    "# URL and API Key strings for requests\n",
    "url = \"http://www.omdbapi.com/?i=\"\n",
    "api_key = \"&apikey=\" + api_key"
   ]
  },
  {
   "cell_type": "code",
   "execution_count": null,
   "metadata": {},
   "outputs": [],
   "source": [
    "### DO NOT RUN ### API REQUEST TAKES A LONG TIME ###\n",
    "# Empty lists to hold response info\n",
    "box_office = []\n",
    "imdb_id = []\n",
    "title = []\n",
    "year = []\n",
    "runtime = []\n",
    "genre = []\n",
    "rated = []\n",
    "language = []\n",
    "country = []\n",
    "metascore = []\n",
    "imdb_rating = []\n",
    "type = []\n",
    "\n",
    "counter = 0\n",
    "\n",
    "# For loop to append response results for each movie in our csv file\n",
    "for id in merged_movies['imdbId']:\n",
    "    try:\n",
    "        response = requests.get(url + id + api_key).json()\n",
    "        box_office.append(response['BoxOffice'])\n",
    "        imdb_id.append(response['imdbID'])\n",
    "        title.append(response['Title'])\n",
    "        year.append(response['Year'])\n",
    "        runtime.append(response['Runtime'])\n",
    "        genre.append(response['Genre'])\n",
    "        rated.append(response['Rated'])\n",
    "        language.append(response['Language'])\n",
    "        country.append(response['Country'])\n",
    "        metascore.append(response['Metascore'])\n",
    "        imdb_rating.append(response['imdbRating'])\n",
    "        type.append(response['Type'])\n",
    "        counter += 1\n",
    "        print(f'Processed record: {id}')\n",
    "    except KeyError:\n",
    "        print(f'Record {id} missing key information. Skipping...')\n",
    "    \n",
    "print(f'The total number of records found was: {counter} out of {merged_movies.imdbId.count()}')"
   ]
  },
  {
   "cell_type": "code",
   "execution_count": null,
   "metadata": {},
   "outputs": [],
   "source": [
    "len(imdb_id), len(title), len(year), len(runtime), len(genre), len(rated), len(language),len(country), len(metascore), len(imdb_rating), len(box_office), len(type)"
   ]
  },
  {
   "cell_type": "code",
   "execution_count": null,
   "metadata": {},
   "outputs": [],
   "source": [
    "#Put the API response into a DataFrame\n",
    "api_data = pd.DataFrame({\n",
    "    'IMDbID': imdb_id,\n",
    "    'Title': title,\n",
    "    'Year': year,\n",
    "    'Runtime': runtime,\n",
    "    'Genre': genre,\n",
    "    'Rated': rated,\n",
    "    'Language': language,\n",
    "    'Country': country,\n",
    "    'Metascore': metascore,\n",
    "    'IMDb_Rating': imdb_rating,\n",
    "    'Box_Office': box_office,\n",
    "    'Type': type\n",
    "})"
   ]
  },
  {
   "cell_type": "code",
   "execution_count": null,
   "metadata": {},
   "outputs": [],
   "source": [
    "# Send the API response data to a csv file for cleaning using pandas\n",
    "api_data.to_csv('Resources/api_data.csv')"
   ]
  },
  {
   "cell_type": "markdown",
   "metadata": {},
   "source": [
    "### Transform the API Data"
   ]
  },
  {
   "cell_type": "code",
   "execution_count": 2,
   "metadata": {},
   "outputs": [
    {
     "name": "stdout",
     "output_type": "stream",
     "text": [
      "<class 'pandas.core.frame.DataFrame'>\n",
      "RangeIndex: 57210 entries, 0 to 57209\n",
      "Data columns (total 13 columns):\n",
      " #   Column       Non-Null Count  Dtype  \n",
      "---  ------       --------------  -----  \n",
      " 0   Unnamed: 0   57210 non-null  int64  \n",
      " 1   IMDbID       57210 non-null  object \n",
      " 2   Title        57210 non-null  object \n",
      " 3   Year         57210 non-null  int64  \n",
      " 4   Runtime      56960 non-null  object \n",
      " 5   Genre        57114 non-null  object \n",
      " 6   Rated        40810 non-null  object \n",
      " 7   Language     56762 non-null  object \n",
      " 8   Country      57100 non-null  object \n",
      " 9   Metascore    14130 non-null  float64\n",
      " 10  IMDb_Rating  57058 non-null  float64\n",
      " 11  Box_Office   15188 non-null  object \n",
      " 12  Type         57210 non-null  object \n",
      "dtypes: float64(2), int64(2), object(9)\n",
      "memory usage: 5.7+ MB\n"
     ]
    }
   ],
   "source": [
    "# Read the API dataset response for cleaning\n",
    "df_path = \"Resources/api_data.csv\"\n",
    "df = pd.read_csv(df_path)\n",
    "\n",
    "df.info()"
   ]
  },
  {
   "cell_type": "code",
   "execution_count": null,
   "metadata": {},
   "outputs": [],
   "source": [
    "# Remove unnecessary columns and N/A data\n",
    "del df[\"Unnamed: 0\"]\n",
    "reduced = df.dropna()\n",
    "\n",
    "# Fix columns for cleaner data\n",
    "reduced['Runtime'] = reduced['Runtime'].str.extract('(\\d+)').astype(int)\n",
    "reduced['Box_Office'] = reduced['Box_Office'].str.replace(\"$\", \"\")\n",
    "reduced['Box_Office'] = reduced['Box_Office'].str.replace(\",\", \"\")\n",
    "reduced['Box_Office'] = reduced['Box_Office'].astype(int)\n",
    "reduced.set_index('IMDbID', inplace=True)\n",
    "\n",
    "reduced"
   ]
  },
  {
   "cell_type": "code",
   "execution_count": null,
   "metadata": {},
   "outputs": [],
   "source": [
    "# Save as a CSV for Postgres Import\n",
    "reduced.to_csv(\"Resources/cleaned_api_data.csv\")"
   ]
  },
  {
   "cell_type": "markdown",
   "metadata": {},
   "source": [
    "### Go to movies.sql file for Load process"
   ]
  }
 ],
 "metadata": {
  "kernelspec": {
   "display_name": "Python 3.9.12 ('base')",
   "language": "python",
   "name": "python3"
  },
  "language_info": {
   "codemirror_mode": {
    "name": "ipython",
    "version": 3
   },
   "file_extension": ".py",
   "mimetype": "text/x-python",
   "name": "python",
   "nbconvert_exporter": "python",
   "pygments_lexer": "ipython3",
   "version": "3.9.12"
  },
  "orig_nbformat": 4,
  "vscode": {
   "interpreter": {
    "hash": "5b0b07944c5dbc91a88e284768cab79a207cf3dc0826e4b143a459b8bc7027e6"
   }
  }
 },
 "nbformat": 4,
 "nbformat_minor": 2
}
